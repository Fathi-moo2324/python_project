{
 "cells": [
  {
   "cell_type": "code",
   "execution_count": 4,
   "id": "5fb3a16f-e08f-44a2-8dcf-5c8da2e82afb",
   "metadata": {},
   "outputs": [],
   "source": [
    "import csv"
   ]
  },
  {
   "cell_type": "code",
   "execution_count": 5,
   "id": "42f8fdd2-6514-488d-9c2b-dcf537b1e400",
   "metadata": {},
   "outputs": [],
   "source": [
    "class Employee:\n",
    "    def __init__(self, employee_id, name, position, salary, email):\n",
    "        self.employee_id = employee_id\n",
    "        self.name = name\n",
    "        self.position = position\n",
    "        self.salary = salary\n",
    "        self.email = email\n",
    "\n",
    "    def __str__(self):\n",
    "        return f\"ID: {self.employee_id}, Name: {self.name}, Position: {self.position}, Salary: {self.salary}, Email: {self.email}\""
   ]
  },
  {
   "cell_type": "code",
   "execution_count": 6,
   "id": "fbb1652d-4d34-4e59-9247-3840a00bfee0",
   "metadata": {},
   "outputs": [],
   "source": [
    "class EmployeeManager:\n",
    "    def __init__(self):\n",
    "        self.employees = []\n",
    "        self.load_employees_from_csv()\n",
    "\n",
    "    def load_employees_from_csv(self):\n",
    "        try:\n",
    "            with open(\"employees.csv\", \"r\") as file:\n",
    "                reader = csv.reader(file)\n",
    "                next(reader)  # Skip header row\n",
    "                for row in reader:\n",
    "                    employee_id, name, position, salary, email = row\n",
    "                    self.employees.append(Employee(employee_id, name, position, salary, email))\n",
    "        except FileNotFoundError:\n",
    "            print(\"Employee data file not found. Creating a new file.\")\n",
    "\n",
    "    def save_employees_to_csv(self):\n",
    "        with open(\"employees.csv\", \"w\", newline=\"\") as file:\n",
    "            writer = csv.writer(file)\n",
    "            writer.writerow([\"ID\", \"Name\", \"Position\", \"Salary\", \"Email\"])\n",
    "            for employee in self.employees:\n",
    "                writer.writerow([employee.employee_id, employee.name, employee.position, employee.salary, employee.email])\n",
    "\n",
    "    def add_employee(self):\n",
    "        name = input(\"Enter Employee Name: \")\n",
    "        employee_id = input(\"Enter Employee ID: \")\n",
    "        email = input(\"Enter Employee Email: \")\n",
    "        position = input(\"Enter Employee Position: \")\n",
    "        salary = input(\"Enter Employee Salary: \")\n",
    "        new_employee = Employee(employee_id, name, position, salary, email)\n",
    "        self.employees.append(new_employee)\n",
    "        self.save_employees_to_csv()\n",
    "        print(\"Employee added successfully!\")\n",
    "\n",
    "    def update_employee(self):\n",
    "        employee_id = input(\"Enter Employee ID to update: \")\n",
    "        for employee in self.employees:\n",
    "            if employee.employee_id == employee_id:\n",
    "                print(f\"Current details for ID {employee_id}:\")\n",
    "                print(employee)\n",
    "                name = input(\"Enter new Name (or press Enter to keep current): \")\n",
    "                position = input(\"Enter new Position (or press Enter to keep current): \")\n",
    "                salary = input(\"Enter new Salary (or press Enter to keep current): \")\n",
    "                email = input(\"Enter new Email (or press Enter to keep current): \")\n",
    "                if name:\n",
    "                    employee.name = name\n",
    "                if position:\n",
    "                    employee.position = position\n",
    "                if salary:\n",
    "                    employee.salary = salary\n",
    "                if email:\n",
    "                    employee.email = email\n",
    "                self.save_employees_to_csv()\n",
    "                print(\"Employee details updated successfully!\")\n",
    "                return\n",
    "        print(f\"Employee with ID {employee_id} not found.\")\n",
    "\n",
    "    def delete_employee(self):\n",
    "        employee_id = input(\"Enter Employee ID to delete: \")\n",
    "        for i, employee in enumerate(self.employees):\n",
    "            if employee.employee_id == employee_id:\n",
    "                del self.employees[i]\n",
    "                self.save_employees_to_csv()\n",
    "                print(\"Employee deleted successfully!\")\n",
    "                return\n",
    "        print(f\"Employee with ID {employee_id} not found.\")\n",
    "\n",
    "    def search_employee(self):\n",
    "        employee_id = input(\"Enter Employee ID to search: \")\n",
    "        for employee in self.employees:\n",
    "            if employee.employee_id == employee_id:\n",
    "                print(employee)\n",
    "                return\n",
    "        print(f\"Employee with ID {employee_id} not found.\")\n",
    "\n",
    "    def list_employees(self):\n",
    "        if not self.employees:\n",
    "            print(\"No employees found.\")\n",
    "        else:\n",
    "            for employee in self.employees:\n",
    "                print(employee)"
   ]
  },
  {
   "cell_type": "code",
   "execution_count": 7,
   "id": "7a6c3662-3f29-4387-bec4-1fb4d337ea41",
   "metadata": {},
   "outputs": [],
   "source": [
    "def main():\n",
    "    employee_manager = EmployeeManager()\n",
    "    while True:\n",
    "        print(\"\\nEmployee Data Management System\")\n",
    "        print(\"1. Add Employee\")\n",
    "        print(\"2. Update Employee\")\n",
    "        print(\"3. Delete Employee\")\n",
    "        print(\"4. Search Employee\")\n",
    "        print(\"5. Display All Employees\")\n",
    "        print(\"6. Exit\")\n",
    "        choice = input(\"Enter your choice: \")\n",
    "        if choice == \"1\":\n",
    "            employee_manager.add_employee()\n",
    "        elif choice == \"2\":\n",
    "            employee_manager.update_employee()\n",
    "        elif choice == \"3\":\n",
    "            employee_manager.delete_employee()\n",
    "        elif choice == \"4\":\n",
    "            employee_manager.search_employee()\n",
    "        elif choice == \"5\":\n",
    "            employee_manager.list_employees()\n",
    "        elif choice == \"6\":\n",
    "            print(\"Exiting...\")\n",
    "            break\n",
    "        else:\n",
    "            print(\"Invalid choice. Please try again.\")"
   ]
  },
  {
   "cell_type": "code",
   "execution_count": 8,
   "id": "a5b0190c-3122-4d9c-8f07-352f40741b23",
   "metadata": {},
   "outputs": [
    {
     "name": "stdout",
     "output_type": "stream",
     "text": [
      "\n",
      "Employee Data Management System\n",
      "1. Add Employee\n",
      "2. Update Employee\n",
      "3. Delete Employee\n",
      "4. Search Employee\n",
      "5. List All Employees\n",
      "6. Exit\n"
     ]
    },
    {
     "name": "stdin",
     "output_type": "stream",
     "text": [
      "Enter your choice:  1\n",
      "Enter Employee Name:  ali ahmed\n",
      "Enter Employee ID:  2\n",
      "Enter Employee Email:  aliah@gmail.com\n",
      "Enter Employee Position:  machine learning\n",
      "Enter Employee Salary:  4500\n"
     ]
    },
    {
     "name": "stdout",
     "output_type": "stream",
     "text": [
      "Employee added successfully!\n",
      "\n",
      "Employee Data Management System\n",
      "1. Add Employee\n",
      "2. Update Employee\n",
      "3. Delete Employee\n",
      "4. Search Employee\n",
      "5. List All Employees\n",
      "6. Exit\n"
     ]
    },
    {
     "name": "stdin",
     "output_type": "stream",
     "text": [
      "Enter your choice:  5\n"
     ]
    },
    {
     "name": "stdout",
     "output_type": "stream",
     "text": [
      "ID: 1, Name: fathi mohamed, Position: Data Science , Salary: 45000, Email: fathimoo2@gmail.com\n",
      "ID: 2, Name: ali ahmed, Position: machine learning, Salary: 4500, Email: aliah@gmail.com\n",
      "\n",
      "Employee Data Management System\n",
      "1. Add Employee\n",
      "2. Update Employee\n",
      "3. Delete Employee\n",
      "4. Search Employee\n",
      "5. List All Employees\n",
      "6. Exit\n"
     ]
    },
    {
     "name": "stdin",
     "output_type": "stream",
     "text": [
      "Enter your choice:  6\n"
     ]
    },
    {
     "name": "stdout",
     "output_type": "stream",
     "text": [
      "Exiting...\n"
     ]
    }
   ],
   "source": [
    "if __name__ == \"__main__\":\n",
    "    main()"
   ]
  },
  {
   "cell_type": "code",
   "execution_count": null,
   "id": "c2b6b984-d0d2-4cf8-b60c-a07debd1c098",
   "metadata": {},
   "outputs": [],
   "source": []
  },
  {
   "cell_type": "code",
   "execution_count": null,
   "id": "f81cb485-7a8f-44a2-bcdc-423296d02238",
   "metadata": {},
   "outputs": [],
   "source": []
  },
  {
   "cell_type": "code",
   "execution_count": null,
   "id": "dbdba0f6-0812-4aeb-b82e-62600fbd22f7",
   "metadata": {},
   "outputs": [],
   "source": []
  }
 ],
 "metadata": {
  "kernelspec": {
   "display_name": "Python 3 (ipykernel)",
   "language": "python",
   "name": "python3"
  },
  "language_info": {
   "codemirror_mode": {
    "name": "ipython",
    "version": 3
   },
   "file_extension": ".py",
   "mimetype": "text/x-python",
   "name": "python",
   "nbconvert_exporter": "python",
   "pygments_lexer": "ipython3",
   "version": "3.12.7"
  }
 },
 "nbformat": 4,
 "nbformat_minor": 5
}
